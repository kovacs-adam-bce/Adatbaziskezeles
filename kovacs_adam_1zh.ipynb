{
    "metadata": {
        "kernelspec": {
            "name": "SQL",
            "display_name": "SQL",
            "language": "sql"
        },
        "language_info": {
            "name": "sql",
            "version": ""
        }
    },
    "nbformat_minor": 2,
    "nbformat": 4,
    "cells": [
        {
            "cell_type": "markdown",
            "source": [
                "1\\. feladat"
            ],
            "metadata": {
                "language": "sql",
                "azdata_cell_guid": "eaea30db-ee52-49d7-b981-cc8ab91ebfec"
            },
            "attachments": {}
        },
        {
            "cell_type": "code",
            "source": [
                "SELECT szh.SZALLAS_ID, szh.SZALLAS_NEV, COUNT(*) AS 'Klímás szobák száma'\r\n",
                "FROM Szallashely szh\r\n",
                "JOIN Szoba sz ON szh.SZALLAS_ID=sz.SZALLAS_FK\r\n",
                "WHERE sz.KLIMAS LIKE 'i'\r\n",
                "GROUP BY szh.SZALLAS_ID, szh.SZALLAS_NEV"
            ],
            "metadata": {
                "azdata_cell_guid": "7099ff84-9967-484e-8f63-93b585919d8f",
                "language": "sql"
            },
            "outputs": [],
            "execution_count": null
        },
        {
            "cell_type": "markdown",
            "source": [
                "2\\. feladat"
            ],
            "metadata": {
                "language": "sql",
                "azdata_cell_guid": "f94cfe87-20d9-4bf3-bf0b-6362559e7f9e"
            },
            "attachments": {}
        },
        {
            "cell_type": "code",
            "source": [
                "SELECT sz.SZOBA_ID AS 'Azonosító', YEAR(f.METTOL) AS 'Évszám', COUNT(*) AS 'Foglalások száma'\r\n",
                "FROM Szoba sz\r\n",
                "JOIN Foglalas f ON sz.SZOBA_ID=f.SZOBA_FK\r\n",
                "WHERE NOT (sz.SZOBA_SZAMA%2=0)\r\n",
                "GROUP BY sz.SZOBA_ID, YEAR(f.mettol)\r\n",
                "HAVING COUNT(*)>10"
            ],
            "metadata": {
                "language": "sql",
                "azdata_cell_guid": "365c7240-e71a-46a9-b5ab-5d524ce95591"
            },
            "outputs": [
                {
                    "output_type": "display_data",
                    "data": {
                        "text/html": "(1 row affected)"
                    },
                    "metadata": {}
                },
                {
                    "output_type": "display_data",
                    "data": {
                        "text/html": "Total execution time: 00:00:00.017"
                    },
                    "metadata": {}
                },
                {
                    "output_type": "execute_result",
                    "metadata": {},
                    "execution_count": 36,
                    "data": {
                        "application/vnd.dataresource+json": {
                            "schema": {
                                "fields": [
                                    {
                                        "name": "Azonosító"
                                    },
                                    {
                                        "name": "Évszám"
                                    },
                                    {
                                        "name": "Foglalások száma"
                                    }
                                ]
                            },
                            "data": [
                                {
                                    "Azonosító": "58",
                                    "Évszám": "2016",
                                    "Foglalások száma": "12"
                                }
                            ]
                        },
                        "text/html": [
                            "<table>",
                            "<tr><th>Azonosító</th><th>Évszám</th><th>Foglalások száma</th></tr>",
                            "<tr><td>58</td><td>2016</td><td>12</td></tr>",
                            "</table>"
                        ]
                    }
                }
            ],
            "execution_count": 36
        }
    ]
}